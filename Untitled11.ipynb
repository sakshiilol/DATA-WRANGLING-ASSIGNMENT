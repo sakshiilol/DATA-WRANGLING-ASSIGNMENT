{
 "cells": [
  {
   "cell_type": "code",
   "execution_count": 1,
   "id": "6065c7bb",
   "metadata": {},
   "outputs": [],
   "source": [
    "import pandas as pd\n",
    "import numpy as np\n",
    "import matplotlib.pyplot as plt\n",
    "import seaborn as sns\n",
    "from sklearn.preprocessing import MinMaxScaler\n",
    "\n",
    "\n",
    "sns.set(style=\"whitegrid\")\n"
   ]
  },
  {
   "cell_type": "code",
   "execution_count": 2,
   "id": "a2385874",
   "metadata": {},
   "outputs": [],
   "source": [
    "df=pd.read_csv('D:\\\\hahahaha//ORDERS.csv')"
   ]
  },
  {
   "cell_type": "code",
   "execution_count": 4,
   "id": "fb52ffe9",
   "metadata": {},
   "outputs": [
    {
     "data": {
      "text/html": [
       "<div>\n",
       "<style scoped>\n",
       "    .dataframe tbody tr th:only-of-type {\n",
       "        vertical-align: middle;\n",
       "    }\n",
       "\n",
       "    .dataframe tbody tr th {\n",
       "        vertical-align: top;\n",
       "    }\n",
       "\n",
       "    .dataframe thead th {\n",
       "        text-align: right;\n",
       "    }\n",
       "</style>\n",
       "<table border=\"1\" class=\"dataframe\">\n",
       "  <thead>\n",
       "    <tr style=\"text-align: right;\">\n",
       "      <th></th>\n",
       "      <th>Row ID</th>\n",
       "      <th>Order Priority</th>\n",
       "      <th>Discount</th>\n",
       "      <th>Unit Price</th>\n",
       "      <th>Shipping Cost</th>\n",
       "      <th>Customer ID</th>\n",
       "      <th>Customer Name</th>\n",
       "      <th>Ship Mode</th>\n",
       "      <th>Customer Segment</th>\n",
       "      <th>Product Category</th>\n",
       "      <th>...</th>\n",
       "      <th>Region</th>\n",
       "      <th>State or Province</th>\n",
       "      <th>City</th>\n",
       "      <th>Postal Code</th>\n",
       "      <th>Order Date</th>\n",
       "      <th>Ship Date</th>\n",
       "      <th>Profit</th>\n",
       "      <th>Quantity ordered new</th>\n",
       "      <th>Sales</th>\n",
       "      <th>Order ID</th>\n",
       "    </tr>\n",
       "  </thead>\n",
       "  <tbody>\n",
       "    <tr>\n",
       "      <th>0</th>\n",
       "      <td>18606</td>\n",
       "      <td>Not Specified</td>\n",
       "      <td>0.01</td>\n",
       "      <td>2.88</td>\n",
       "      <td>0.50</td>\n",
       "      <td>2</td>\n",
       "      <td>Janice Fletcher</td>\n",
       "      <td>Regular Air</td>\n",
       "      <td>Corporate</td>\n",
       "      <td>Office Supplies</td>\n",
       "      <td>...</td>\n",
       "      <td>Central</td>\n",
       "      <td>Illinois</td>\n",
       "      <td>Addison</td>\n",
       "      <td>60101</td>\n",
       "      <td>5/28/2012</td>\n",
       "      <td>5/30/2012</td>\n",
       "      <td>1.320000</td>\n",
       "      <td>2</td>\n",
       "      <td>5.90</td>\n",
       "      <td>88525</td>\n",
       "    </tr>\n",
       "    <tr>\n",
       "      <th>1</th>\n",
       "      <td>20847</td>\n",
       "      <td>High</td>\n",
       "      <td>0.01</td>\n",
       "      <td>2.84</td>\n",
       "      <td>0.93</td>\n",
       "      <td>3</td>\n",
       "      <td>Bonnie Potter</td>\n",
       "      <td>Express Air</td>\n",
       "      <td>Corporate</td>\n",
       "      <td>Office Supplies</td>\n",
       "      <td>...</td>\n",
       "      <td>West</td>\n",
       "      <td>Washington</td>\n",
       "      <td>Anacortes</td>\n",
       "      <td>98221</td>\n",
       "      <td>07-07-2010</td>\n",
       "      <td>07-08-2010</td>\n",
       "      <td>4.560000</td>\n",
       "      <td>4</td>\n",
       "      <td>13.01</td>\n",
       "      <td>88522</td>\n",
       "    </tr>\n",
       "    <tr>\n",
       "      <th>2</th>\n",
       "      <td>23086</td>\n",
       "      <td>Not Specified</td>\n",
       "      <td>0.03</td>\n",
       "      <td>6.68</td>\n",
       "      <td>6.15</td>\n",
       "      <td>3</td>\n",
       "      <td>Bonnie Potter</td>\n",
       "      <td>Express Air</td>\n",
       "      <td>Corporate</td>\n",
       "      <td>Office Supplies</td>\n",
       "      <td>...</td>\n",
       "      <td>West</td>\n",
       "      <td>Washington</td>\n",
       "      <td>Anacortes</td>\n",
       "      <td>98221</td>\n",
       "      <td>7/27/2011</td>\n",
       "      <td>7/28/2011</td>\n",
       "      <td>-47.640000</td>\n",
       "      <td>7</td>\n",
       "      <td>49.92</td>\n",
       "      <td>88523</td>\n",
       "    </tr>\n",
       "    <tr>\n",
       "      <th>3</th>\n",
       "      <td>23087</td>\n",
       "      <td>Not Specified</td>\n",
       "      <td>0.01</td>\n",
       "      <td>5.68</td>\n",
       "      <td>3.60</td>\n",
       "      <td>3</td>\n",
       "      <td>Bonnie Potter</td>\n",
       "      <td>Regular Air</td>\n",
       "      <td>Corporate</td>\n",
       "      <td>Office Supplies</td>\n",
       "      <td>...</td>\n",
       "      <td>West</td>\n",
       "      <td>Washington</td>\n",
       "      <td>Anacortes</td>\n",
       "      <td>98221</td>\n",
       "      <td>7/27/2011</td>\n",
       "      <td>7/28/2011</td>\n",
       "      <td>-30.510000</td>\n",
       "      <td>7</td>\n",
       "      <td>41.64</td>\n",
       "      <td>88523</td>\n",
       "    </tr>\n",
       "    <tr>\n",
       "      <th>4</th>\n",
       "      <td>23088</td>\n",
       "      <td>Not Specified</td>\n",
       "      <td>0.00</td>\n",
       "      <td>205.99</td>\n",
       "      <td>2.50</td>\n",
       "      <td>3</td>\n",
       "      <td>Bonnie Potter</td>\n",
       "      <td>Express Air</td>\n",
       "      <td>Corporate</td>\n",
       "      <td>Technology</td>\n",
       "      <td>...</td>\n",
       "      <td>West</td>\n",
       "      <td>Washington</td>\n",
       "      <td>Anacortes</td>\n",
       "      <td>98221</td>\n",
       "      <td>7/27/2011</td>\n",
       "      <td>7/27/2011</td>\n",
       "      <td>998.202300</td>\n",
       "      <td>8</td>\n",
       "      <td>1446.67</td>\n",
       "      <td>88523</td>\n",
       "    </tr>\n",
       "    <tr>\n",
       "      <th>...</th>\n",
       "      <td>...</td>\n",
       "      <td>...</td>\n",
       "      <td>...</td>\n",
       "      <td>...</td>\n",
       "      <td>...</td>\n",
       "      <td>...</td>\n",
       "      <td>...</td>\n",
       "      <td>...</td>\n",
       "      <td>...</td>\n",
       "      <td>...</td>\n",
       "      <td>...</td>\n",
       "      <td>...</td>\n",
       "      <td>...</td>\n",
       "      <td>...</td>\n",
       "      <td>...</td>\n",
       "      <td>...</td>\n",
       "      <td>...</td>\n",
       "      <td>...</td>\n",
       "      <td>...</td>\n",
       "      <td>...</td>\n",
       "      <td>...</td>\n",
       "    </tr>\n",
       "    <tr>\n",
       "      <th>9421</th>\n",
       "      <td>20275</td>\n",
       "      <td>Critical</td>\n",
       "      <td>0.06</td>\n",
       "      <td>35.89</td>\n",
       "      <td>14.72</td>\n",
       "      <td>3402</td>\n",
       "      <td>Frederick Cole</td>\n",
       "      <td>Regular Air</td>\n",
       "      <td>Consumer</td>\n",
       "      <td>Office Supplies</td>\n",
       "      <td>...</td>\n",
       "      <td>East</td>\n",
       "      <td>West Virginia</td>\n",
       "      <td>Charleston</td>\n",
       "      <td>25314</td>\n",
       "      <td>5/14/2013</td>\n",
       "      <td>5/15/2013</td>\n",
       "      <td>137.860000</td>\n",
       "      <td>13</td>\n",
       "      <td>447.87</td>\n",
       "      <td>87532</td>\n",
       "    </tr>\n",
       "    <tr>\n",
       "      <th>9422</th>\n",
       "      <td>20276</td>\n",
       "      <td>Critical</td>\n",
       "      <td>0.00</td>\n",
       "      <td>3.34</td>\n",
       "      <td>7.49</td>\n",
       "      <td>3402</td>\n",
       "      <td>Frederick Cole</td>\n",
       "      <td>Regular Air</td>\n",
       "      <td>Consumer</td>\n",
       "      <td>Office Supplies</td>\n",
       "      <td>...</td>\n",
       "      <td>East</td>\n",
       "      <td>West Virginia</td>\n",
       "      <td>Charleston</td>\n",
       "      <td>25314</td>\n",
       "      <td>5/14/2013</td>\n",
       "      <td>5/14/2013</td>\n",
       "      <td>-39.070000</td>\n",
       "      <td>3</td>\n",
       "      <td>13.23</td>\n",
       "      <td>87532</td>\n",
       "    </tr>\n",
       "    <tr>\n",
       "      <th>9423</th>\n",
       "      <td>24491</td>\n",
       "      <td>Not Specified</td>\n",
       "      <td>0.08</td>\n",
       "      <td>550.98</td>\n",
       "      <td>45.70</td>\n",
       "      <td>3402</td>\n",
       "      <td>Frederick Cole</td>\n",
       "      <td>Delivery Truck</td>\n",
       "      <td>Consumer</td>\n",
       "      <td>Furniture</td>\n",
       "      <td>...</td>\n",
       "      <td>East</td>\n",
       "      <td>West Virginia</td>\n",
       "      <td>Charleston</td>\n",
       "      <td>25314</td>\n",
       "      <td>09-12-2013</td>\n",
       "      <td>9/14/2013</td>\n",
       "      <td>-1225.029097</td>\n",
       "      <td>4</td>\n",
       "      <td>2215.93</td>\n",
       "      <td>87533</td>\n",
       "    </tr>\n",
       "    <tr>\n",
       "      <th>9424</th>\n",
       "      <td>25914</td>\n",
       "      <td>High</td>\n",
       "      <td>0.10</td>\n",
       "      <td>105.98</td>\n",
       "      <td>13.99</td>\n",
       "      <td>3403</td>\n",
       "      <td>Tammy Buckley</td>\n",
       "      <td>Express Air</td>\n",
       "      <td>Consumer</td>\n",
       "      <td>Furniture</td>\n",
       "      <td>...</td>\n",
       "      <td>West</td>\n",
       "      <td>Wyoming</td>\n",
       "      <td>Cheyenne</td>\n",
       "      <td>82001</td>\n",
       "      <td>02-08-2010</td>\n",
       "      <td>02-11-2010</td>\n",
       "      <td>349.485000</td>\n",
       "      <td>5</td>\n",
       "      <td>506.50</td>\n",
       "      <td>87530</td>\n",
       "    </tr>\n",
       "    <tr>\n",
       "      <th>9425</th>\n",
       "      <td>24492</td>\n",
       "      <td>Not Specified</td>\n",
       "      <td>0.09</td>\n",
       "      <td>7.78</td>\n",
       "      <td>2.50</td>\n",
       "      <td>3403</td>\n",
       "      <td>Tammy Buckley</td>\n",
       "      <td>Express Air</td>\n",
       "      <td>Consumer</td>\n",
       "      <td>Office Supplies</td>\n",
       "      <td>...</td>\n",
       "      <td>West</td>\n",
       "      <td>Wyoming</td>\n",
       "      <td>Cheyenne</td>\n",
       "      <td>82001</td>\n",
       "      <td>09-12-2013</td>\n",
       "      <td>9/14/2013</td>\n",
       "      <td>78.062400</td>\n",
       "      <td>23</td>\n",
       "      <td>172.48</td>\n",
       "      <td>87533</td>\n",
       "    </tr>\n",
       "  </tbody>\n",
       "</table>\n",
       "<p>9426 rows × 24 columns</p>\n",
       "</div>"
      ],
      "text/plain": [
       "      Row ID Order Priority  Discount  Unit Price  Shipping Cost  Customer ID  \\\n",
       "0      18606  Not Specified      0.01        2.88           0.50            2   \n",
       "1      20847           High      0.01        2.84           0.93            3   \n",
       "2      23086  Not Specified      0.03        6.68           6.15            3   \n",
       "3      23087  Not Specified      0.01        5.68           3.60            3   \n",
       "4      23088  Not Specified      0.00      205.99           2.50            3   \n",
       "...      ...            ...       ...         ...            ...          ...   \n",
       "9421   20275       Critical      0.06       35.89          14.72         3402   \n",
       "9422   20276       Critical      0.00        3.34           7.49         3402   \n",
       "9423   24491  Not Specified      0.08      550.98          45.70         3402   \n",
       "9424   25914           High      0.10      105.98          13.99         3403   \n",
       "9425   24492  Not Specified      0.09        7.78           2.50         3403   \n",
       "\n",
       "        Customer Name       Ship Mode Customer Segment Product Category  ...  \\\n",
       "0     Janice Fletcher     Regular Air        Corporate  Office Supplies  ...   \n",
       "1       Bonnie Potter     Express Air        Corporate  Office Supplies  ...   \n",
       "2       Bonnie Potter     Express Air        Corporate  Office Supplies  ...   \n",
       "3       Bonnie Potter     Regular Air        Corporate  Office Supplies  ...   \n",
       "4       Bonnie Potter     Express Air        Corporate       Technology  ...   \n",
       "...               ...             ...              ...              ...  ...   \n",
       "9421   Frederick Cole     Regular Air         Consumer  Office Supplies  ...   \n",
       "9422   Frederick Cole     Regular Air         Consumer  Office Supplies  ...   \n",
       "9423   Frederick Cole  Delivery Truck         Consumer        Furniture  ...   \n",
       "9424    Tammy Buckley     Express Air         Consumer        Furniture  ...   \n",
       "9425    Tammy Buckley     Express Air         Consumer  Office Supplies  ...   \n",
       "\n",
       "       Region State or Province        City  Postal Code  Order Date  \\\n",
       "0     Central          Illinois     Addison        60101   5/28/2012   \n",
       "1        West        Washington   Anacortes        98221  07-07-2010   \n",
       "2        West        Washington   Anacortes        98221   7/27/2011   \n",
       "3        West        Washington   Anacortes        98221   7/27/2011   \n",
       "4        West        Washington   Anacortes        98221   7/27/2011   \n",
       "...       ...               ...         ...          ...         ...   \n",
       "9421     East     West Virginia  Charleston        25314   5/14/2013   \n",
       "9422     East     West Virginia  Charleston        25314   5/14/2013   \n",
       "9423     East     West Virginia  Charleston        25314  09-12-2013   \n",
       "9424     West           Wyoming    Cheyenne        82001  02-08-2010   \n",
       "9425     West           Wyoming    Cheyenne        82001  09-12-2013   \n",
       "\n",
       "       Ship Date       Profit  Quantity ordered new    Sales Order ID  \n",
       "0      5/30/2012     1.320000                     2     5.90    88525  \n",
       "1     07-08-2010     4.560000                     4    13.01    88522  \n",
       "2      7/28/2011   -47.640000                     7    49.92    88523  \n",
       "3      7/28/2011   -30.510000                     7    41.64    88523  \n",
       "4      7/27/2011   998.202300                     8  1446.67    88523  \n",
       "...          ...          ...                   ...      ...      ...  \n",
       "9421   5/15/2013   137.860000                    13   447.87    87532  \n",
       "9422   5/14/2013   -39.070000                     3    13.23    87532  \n",
       "9423   9/14/2013 -1225.029097                     4  2215.93    87533  \n",
       "9424  02-11-2010   349.485000                     5   506.50    87530  \n",
       "9425   9/14/2013    78.062400                    23   172.48    87533  \n",
       "\n",
       "[9426 rows x 24 columns]"
      ]
     },
     "execution_count": 4,
     "metadata": {},
     "output_type": "execute_result"
    }
   ],
   "source": [
    "df"
   ]
  },
  {
   "cell_type": "code",
   "execution_count": 5,
   "id": "60e0a6d9",
   "metadata": {},
   "outputs": [
    {
     "name": "stdout",
     "output_type": "stream",
     "text": [
      "First 5 Rows:\n",
      "   Row ID Order Priority  Discount  Unit Price  Shipping Cost  Customer ID  \\\n",
      "0   18606  Not Specified      0.01        2.88           0.50            2   \n",
      "1   20847           High      0.01        2.84           0.93            3   \n",
      "2   23086  Not Specified      0.03        6.68           6.15            3   \n",
      "3   23087  Not Specified      0.01        5.68           3.60            3   \n",
      "4   23088  Not Specified      0.00      205.99           2.50            3   \n",
      "\n",
      "     Customer Name    Ship Mode Customer Segment Product Category  ...  \\\n",
      "0  Janice Fletcher  Regular Air        Corporate  Office Supplies  ...   \n",
      "1    Bonnie Potter  Express Air        Corporate  Office Supplies  ...   \n",
      "2    Bonnie Potter  Express Air        Corporate  Office Supplies  ...   \n",
      "3    Bonnie Potter  Regular Air        Corporate  Office Supplies  ...   \n",
      "4    Bonnie Potter  Express Air        Corporate       Technology  ...   \n",
      "\n",
      "    Region State or Province       City  Postal Code  Order Date   Ship Date  \\\n",
      "0  Central          Illinois    Addison        60101   5/28/2012   5/30/2012   \n",
      "1     West        Washington  Anacortes        98221  07-07-2010  07-08-2010   \n",
      "2     West        Washington  Anacortes        98221   7/27/2011   7/28/2011   \n",
      "3     West        Washington  Anacortes        98221   7/27/2011   7/28/2011   \n",
      "4     West        Washington  Anacortes        98221   7/27/2011   7/27/2011   \n",
      "\n",
      "     Profit  Quantity ordered new    Sales Order ID  \n",
      "0    1.3200                     2     5.90    88525  \n",
      "1    4.5600                     4    13.01    88522  \n",
      "2  -47.6400                     7    49.92    88523  \n",
      "3  -30.5100                     7    41.64    88523  \n",
      "4  998.2023                     8  1446.67    88523  \n",
      "\n",
      "[5 rows x 24 columns]\n"
     ]
    }
   ],
   "source": [
    "print('First 5 Rows:')\n",
    "print(df.head())\n"
   ]
  },
  {
   "cell_type": "code",
   "execution_count": 6,
   "id": "fc5d2488",
   "metadata": {},
   "outputs": [
    {
     "name": "stdout",
     "output_type": "stream",
     "text": [
      "\n",
      "Data Types:\n",
      "Row ID                    int64\n",
      "Order Priority           object\n",
      "Discount                float64\n",
      "Unit Price              float64\n",
      "Shipping Cost           float64\n",
      "Customer ID               int64\n",
      "Customer Name            object\n",
      "Ship Mode                object\n",
      "Customer Segment         object\n",
      "Product Category         object\n",
      "Product Sub-Category     object\n",
      "Product Container        object\n",
      "Product Name             object\n",
      "Product Base Margin     float64\n",
      "Region                   object\n",
      "State or Province        object\n",
      "City                     object\n",
      "Postal Code               int64\n",
      "Order Date               object\n",
      "Ship Date                object\n",
      "Profit                  float64\n",
      "Quantity ordered new      int64\n",
      "Sales                   float64\n",
      "Order ID                  int64\n",
      "dtype: object\n"
     ]
    }
   ],
   "source": [
    "print('\\nData Types:')\n",
    "print(df.dtypes)\n"
   ]
  },
  {
   "cell_type": "code",
   "execution_count": 7,
   "id": "714c6937",
   "metadata": {},
   "outputs": [
    {
     "name": "stdout",
     "output_type": "stream",
     "text": [
      "\n",
      "Number of Rows: 9426, Number of Columns: 24\n"
     ]
    }
   ],
   "source": [
    "num_rows, num_columns = df.shape\n",
    "print(f'\\nNumber of Rows: {num_rows}, Number of Columns: {num_columns}')\n"
   ]
  },
  {
   "cell_type": "code",
   "execution_count": 8,
   "id": "b5254d41",
   "metadata": {},
   "outputs": [
    {
     "name": "stdout",
     "output_type": "stream",
     "text": [
      "\n",
      "Missing Values:\n",
      "Row ID                   0\n",
      "Order Priority           0\n",
      "Discount                 0\n",
      "Unit Price               0\n",
      "Shipping Cost            0\n",
      "Customer ID              0\n",
      "Customer Name            0\n",
      "Ship Mode                0\n",
      "Customer Segment         0\n",
      "Product Category         0\n",
      "Product Sub-Category     0\n",
      "Product Container        0\n",
      "Product Name             0\n",
      "Product Base Margin     72\n",
      "Region                   0\n",
      "State or Province        0\n",
      "City                     0\n",
      "Postal Code              0\n",
      "Order Date               0\n",
      "Ship Date                0\n",
      "Profit                   0\n",
      "Quantity ordered new     0\n",
      "Sales                    0\n",
      "Order ID                 0\n",
      "dtype: int64\n"
     ]
    }
   ],
   "source": [
    "\n",
    "missing_values = df.isnull().sum()\n",
    "print('\\nMissing Values:')\n",
    "print(missing_values)\n"
   ]
  },
  {
   "cell_type": "code",
   "execution_count": 9,
   "id": "7270a68c",
   "metadata": {},
   "outputs": [
    {
     "name": "stdout",
     "output_type": "stream",
     "text": [
      "\n",
      "Descriptive Statistics:\n",
      "             Row ID     Discount   Unit Price  Shipping Cost  Customer ID  \\\n",
      "count   9426.000000  9426.000000  9426.000000    9426.000000  9426.000000   \n",
      "mean   20241.015277     0.049628    88.303686      12.795142  1738.422236   \n",
      "std     6101.890965     0.031798   281.540982      17.181203   979.167197   \n",
      "min        2.000000     0.000000     0.990000       0.490000     2.000000   \n",
      "25%    19330.250000     0.020000     6.480000       3.192500   898.000000   \n",
      "50%    21686.500000     0.050000    20.990000       6.050000  1750.000000   \n",
      "75%    24042.750000     0.080000    85.990000      13.990000  2578.750000   \n",
      "max    26399.000000     0.250000  6783.020000     164.730000  3403.000000   \n",
      "\n",
      "       Product Base Margin   Postal Code        Profit  Quantity ordered new  \\\n",
      "count          9354.000000   9426.000000   9426.000000           9426.000000   \n",
      "mean              0.512189  52446.327286    139.236410             13.798430   \n",
      "std               0.135229  29374.597802    998.486483             15.107688   \n",
      "min               0.350000   1001.000000 -16476.838000              1.000000   \n",
      "25%               0.380000  29406.000000    -74.017375              5.000000   \n",
      "50%               0.520000  52302.000000      2.567600             10.000000   \n",
      "75%               0.590000  78516.000000    140.243850             17.000000   \n",
      "max               0.850000  99362.000000  16332.414000            170.000000   \n",
      "\n",
      "               Sales      Order ID  \n",
      "count    9426.000000   9426.000000  \n",
      "mean      949.706272  82318.489073  \n",
      "std      2598.019818  19149.448857  \n",
      "min         1.320000      6.000000  \n",
      "25%        61.282500  86737.250000  \n",
      "50%       203.455000  88344.500000  \n",
      "75%       776.402500  89987.750000  \n",
      "max    100119.160000  91591.000000  \n"
     ]
    }
   ],
   "source": [
    "print('\\nDescriptive Statistics:')\n",
    "print(df.describe())\n"
   ]
  },
  {
   "cell_type": "code",
   "execution_count": 10,
   "id": "34327e3f",
   "metadata": {},
   "outputs": [],
   "source": [
    "\n",
    "df['Order Date'] = pd.to_datetime(df['Order Date'], errors='coerce')\n",
    "df['Ship Date'] = pd.to_datetime(df['Ship Date'], errors='coerce')"
   ]
  },
  {
   "cell_type": "code",
   "execution_count": 11,
   "id": "ea8d2e53",
   "metadata": {},
   "outputs": [
    {
     "name": "stdout",
     "output_type": "stream",
     "text": [
      "\n",
      "Data Types After Conversion:\n",
      "Row ID                           int64\n",
      "Order Priority                  object\n",
      "Discount                       float64\n",
      "Unit Price                     float64\n",
      "Shipping Cost                  float64\n",
      "Customer ID                      int64\n",
      "Customer Name                   object\n",
      "Ship Mode                       object\n",
      "Customer Segment                object\n",
      "Product Category                object\n",
      "Product Sub-Category            object\n",
      "Product Container               object\n",
      "Product Name                    object\n",
      "Product Base Margin            float64\n",
      "Region                          object\n",
      "State or Province               object\n",
      "City                            object\n",
      "Postal Code                      int64\n",
      "Order Date              datetime64[ns]\n",
      "Ship Date               datetime64[ns]\n",
      "Profit                         float64\n",
      "Quantity ordered new             int64\n",
      "Sales                          float64\n",
      "Order ID                         int64\n",
      "dtype: object\n"
     ]
    }
   ],
   "source": [
    "print('\\nData Types After Conversion:')\n",
    "print(df.dtypes)\n"
   ]
  },
  {
   "cell_type": "code",
   "execution_count": 12,
   "id": "fd051f25",
   "metadata": {},
   "outputs": [
    {
     "name": "stdout",
     "output_type": "stream",
     "text": [
      "\n",
      "Number of Duplicate Rows Before Dropping:\n",
      "0\n"
     ]
    }
   ],
   "source": [
    "print('\\nNumber of Duplicate Rows Before Dropping:')\n",
    "print(df.duplicated().sum())\n"
   ]
  },
  {
   "cell_type": "code",
   "execution_count": 13,
   "id": "6e0e6d91",
   "metadata": {},
   "outputs": [],
   "source": [
    "\n",
    "df.drop_duplicates(inplace=True)\n"
   ]
  },
  {
   "cell_type": "code",
   "execution_count": 14,
   "id": "c1d924db",
   "metadata": {},
   "outputs": [
    {
     "name": "stdout",
     "output_type": "stream",
     "text": [
      "\n",
      "Number of Duplicate Rows After Dropping:\n",
      "0\n"
     ]
    }
   ],
   "source": [
    "\n",
    "print('\\nNumber of Duplicate Rows After Dropping:')\n",
    "print(df.duplicated().sum())\n"
   ]
  },
  {
   "cell_type": "code",
   "execution_count": 25,
   "id": "af2a2382",
   "metadata": {},
   "outputs": [],
   "source": [
    "df[['Customer Name', 'City',]] = df[['Customer Name', 'City', ]].apply(lambda x: x.str.title())\n"
   ]
  },
  {
   "cell_type": "code",
   "execution_count": 27,
   "id": "c0c048de",
   "metadata": {},
   "outputs": [],
   "source": [
    "q_upper = df['Quantity ordered new'].quantile(0.99)\n",
    "df['Quantity ordered new'] = np.where(df['Quantity ordered new'] > q_upper, q_upper, df['Quantity ordered new'])\n"
   ]
  },
  {
   "cell_type": "code",
   "execution_count": 28,
   "id": "51be3c2b",
   "metadata": {},
   "outputs": [
    {
     "name": "stdout",
     "output_type": "stream",
     "text": [
      "\n",
      "Outliers in Quantity column capped at 99th percentile.\n"
     ]
    }
   ],
   "source": [
    "print('\\nOutliers in Quantity column capped at 99th percentile.')\n"
   ]
  },
  {
   "cell_type": "code",
   "execution_count": 29,
   "id": "87d77dbe",
   "metadata": {},
   "outputs": [],
   "source": [
    "df['Order Year'] = df['Order Date'].dt.year\n",
    "df['Order Month'] = df['Order Date'].dt.month\n"
   ]
  },
  {
   "cell_type": "code",
   "execution_count": 30,
   "id": "0fcb3dbd",
   "metadata": {},
   "outputs": [],
   "source": [
    "\n",
    "df['Profit Margin'] = (df['Profit'] / df['Sales']) * 100\n",
    "df['Profit Margin'] = df['Profit Margin'].round(2)\n"
   ]
  },
  {
   "cell_type": "code",
   "execution_count": 32,
   "id": "751b3b1b",
   "metadata": {},
   "outputs": [],
   "source": [
    "\n",
    "sales_by_customer = df.groupby('Customer ID')['Sales'].sum().reset_index()\n"
   ]
  },
  {
   "cell_type": "code",
   "execution_count": 34,
   "id": "3a79f3b6",
   "metadata": {},
   "outputs": [],
   "source": [
    "profit_by_category = df.groupby('Unit Price')['Profit'].sum().reset_index()\n"
   ]
  },
  {
   "cell_type": "code",
   "execution_count": 35,
   "id": "68bb74af",
   "metadata": {},
   "outputs": [],
   "source": [
    "scaler = MinMaxScaler()\n",
    "df['Sales_Normalized'] = scaler.fit_transform(df[['Sales']])\n"
   ]
  },
  {
   "cell_type": "code",
   "execution_count": 36,
   "id": "a9bf4365",
   "metadata": {},
   "outputs": [],
   "source": [
    "sales_bins = [0, 500, 2000, df['Sales'].max()]\n",
    "sales_labels = ['Low', 'Medium', 'High']\n",
    "df['Sales_Bin'] = pd.cut(df['Sales'], bins=sales_bins, labels=sales_labels)\n"
   ]
  },
  {
   "cell_type": "code",
   "execution_count": 42,
   "id": "82d5270f",
   "metadata": {},
   "outputs": [
    {
     "data": {
      "text/plain": [
       "0          Low\n",
       "1          Low\n",
       "2          Low\n",
       "3          Low\n",
       "4       Medium\n",
       "         ...  \n",
       "9421       Low\n",
       "9422       Low\n",
       "9423      High\n",
       "9424    Medium\n",
       "9425       Low\n",
       "Name: Sales_Bin, Length: 9426, dtype: category\n",
       "Categories (3, object): ['Low' < 'Medium' < 'High']"
      ]
     },
     "execution_count": 42,
     "metadata": {},
     "output_type": "execute_result"
    }
   ],
   "source": [
    "df['Sales_Bin']"
   ]
  },
  {
   "cell_type": "code",
   "execution_count": 38,
   "id": "ec579927",
   "metadata": {},
   "outputs": [
    {
     "data": {
      "text/plain": [
       "0        22.37\n",
       "1        35.05\n",
       "2       -95.43\n",
       "3       -73.27\n",
       "4        69.00\n",
       "         ...  \n",
       "9421     30.78\n",
       "9422   -295.31\n",
       "9423    -55.28\n",
       "9424     69.00\n",
       "9425     45.26\n",
       "Name: Profit Margin, Length: 9426, dtype: float64"
      ]
     },
     "execution_count": 38,
     "metadata": {},
     "output_type": "execute_result"
    }
   ],
   "source": [
    "df['Profit Margin']"
   ]
  },
  {
   "cell_type": "code",
   "execution_count": 39,
   "id": "23b9a581",
   "metadata": {},
   "outputs": [
    {
     "data": {
      "text/html": [
       "<div>\n",
       "<style scoped>\n",
       "    .dataframe tbody tr th:only-of-type {\n",
       "        vertical-align: middle;\n",
       "    }\n",
       "\n",
       "    .dataframe tbody tr th {\n",
       "        vertical-align: top;\n",
       "    }\n",
       "\n",
       "    .dataframe thead th {\n",
       "        text-align: right;\n",
       "    }\n",
       "</style>\n",
       "<table border=\"1\" class=\"dataframe\">\n",
       "  <thead>\n",
       "    <tr style=\"text-align: right;\">\n",
       "      <th></th>\n",
       "      <th>Customer ID</th>\n",
       "      <th>Sales</th>\n",
       "    </tr>\n",
       "  </thead>\n",
       "  <tbody>\n",
       "    <tr>\n",
       "      <th>0</th>\n",
       "      <td>2</td>\n",
       "      <td>5.90</td>\n",
       "    </tr>\n",
       "    <tr>\n",
       "      <th>1</th>\n",
       "      <td>3</td>\n",
       "      <td>5014.28</td>\n",
       "    </tr>\n",
       "    <tr>\n",
       "      <th>2</th>\n",
       "      <td>5</td>\n",
       "      <td>6476.10</td>\n",
       "    </tr>\n",
       "    <tr>\n",
       "      <th>3</th>\n",
       "      <td>6</td>\n",
       "      <td>3332.31</td>\n",
       "    </tr>\n",
       "    <tr>\n",
       "      <th>4</th>\n",
       "      <td>7</td>\n",
       "      <td>232.95</td>\n",
       "    </tr>\n",
       "    <tr>\n",
       "      <th>...</th>\n",
       "      <td>...</td>\n",
       "      <td>...</td>\n",
       "    </tr>\n",
       "    <tr>\n",
       "      <th>2698</th>\n",
       "      <td>3398</td>\n",
       "      <td>9154.64</td>\n",
       "    </tr>\n",
       "    <tr>\n",
       "      <th>2699</th>\n",
       "      <td>3399</td>\n",
       "      <td>2308.87</td>\n",
       "    </tr>\n",
       "    <tr>\n",
       "      <th>2700</th>\n",
       "      <td>3400</td>\n",
       "      <td>1924.32</td>\n",
       "    </tr>\n",
       "    <tr>\n",
       "      <th>2701</th>\n",
       "      <td>3402</td>\n",
       "      <td>4646.34</td>\n",
       "    </tr>\n",
       "    <tr>\n",
       "      <th>2702</th>\n",
       "      <td>3403</td>\n",
       "      <td>678.98</td>\n",
       "    </tr>\n",
       "  </tbody>\n",
       "</table>\n",
       "<p>2703 rows × 2 columns</p>\n",
       "</div>"
      ],
      "text/plain": [
       "      Customer ID    Sales\n",
       "0               2     5.90\n",
       "1               3  5014.28\n",
       "2               5  6476.10\n",
       "3               6  3332.31\n",
       "4               7   232.95\n",
       "...           ...      ...\n",
       "2698         3398  9154.64\n",
       "2699         3399  2308.87\n",
       "2700         3400  1924.32\n",
       "2701         3402  4646.34\n",
       "2702         3403   678.98\n",
       "\n",
       "[2703 rows x 2 columns]"
      ]
     },
     "execution_count": 39,
     "metadata": {},
     "output_type": "execute_result"
    }
   ],
   "source": [
    "sales_by_customer "
   ]
  },
  {
   "cell_type": "code",
   "execution_count": 40,
   "id": "12d16317",
   "metadata": {},
   "outputs": [
    {
     "data": {
      "text/html": [
       "<div>\n",
       "<style scoped>\n",
       "    .dataframe tbody tr th:only-of-type {\n",
       "        vertical-align: middle;\n",
       "    }\n",
       "\n",
       "    .dataframe tbody tr th {\n",
       "        vertical-align: top;\n",
       "    }\n",
       "\n",
       "    .dataframe thead th {\n",
       "        text-align: right;\n",
       "    }\n",
       "</style>\n",
       "<table border=\"1\" class=\"dataframe\">\n",
       "  <thead>\n",
       "    <tr style=\"text-align: right;\">\n",
       "      <th></th>\n",
       "      <th>Unit Price</th>\n",
       "      <th>Profit</th>\n",
       "    </tr>\n",
       "  </thead>\n",
       "  <tbody>\n",
       "    <tr>\n",
       "      <th>0</th>\n",
       "      <td>0.99</td>\n",
       "      <td>-355.775520</td>\n",
       "    </tr>\n",
       "    <tr>\n",
       "      <th>1</th>\n",
       "      <td>1.14</td>\n",
       "      <td>-80.658620</td>\n",
       "    </tr>\n",
       "    <tr>\n",
       "      <th>2</th>\n",
       "      <td>1.26</td>\n",
       "      <td>-333.948360</td>\n",
       "    </tr>\n",
       "    <tr>\n",
       "      <th>3</th>\n",
       "      <td>1.48</td>\n",
       "      <td>-137.016000</td>\n",
       "    </tr>\n",
       "    <tr>\n",
       "      <th>4</th>\n",
       "      <td>1.60</td>\n",
       "      <td>964.079600</td>\n",
       "    </tr>\n",
       "    <tr>\n",
       "      <th>...</th>\n",
       "      <td>...</td>\n",
       "      <td>...</td>\n",
       "    </tr>\n",
       "    <tr>\n",
       "      <th>746</th>\n",
       "      <td>2036.48</td>\n",
       "      <td>686.151042</td>\n",
       "    </tr>\n",
       "    <tr>\n",
       "      <th>747</th>\n",
       "      <td>2550.14</td>\n",
       "      <td>-29557.665792</td>\n",
       "    </tr>\n",
       "    <tr>\n",
       "      <th>748</th>\n",
       "      <td>3499.99</td>\n",
       "      <td>-5665.440460</td>\n",
       "    </tr>\n",
       "    <tr>\n",
       "      <th>749</th>\n",
       "      <td>3502.14</td>\n",
       "      <td>-39743.177836</td>\n",
       "    </tr>\n",
       "    <tr>\n",
       "      <th>750</th>\n",
       "      <td>6783.02</td>\n",
       "      <td>-36446.423530</td>\n",
       "    </tr>\n",
       "  </tbody>\n",
       "</table>\n",
       "<p>751 rows × 2 columns</p>\n",
       "</div>"
      ],
      "text/plain": [
       "     Unit Price        Profit\n",
       "0          0.99   -355.775520\n",
       "1          1.14    -80.658620\n",
       "2          1.26   -333.948360\n",
       "3          1.48   -137.016000\n",
       "4          1.60    964.079600\n",
       "..          ...           ...\n",
       "746     2036.48    686.151042\n",
       "747     2550.14 -29557.665792\n",
       "748     3499.99  -5665.440460\n",
       "749     3502.14 -39743.177836\n",
       "750     6783.02 -36446.423530\n",
       "\n",
       "[751 rows x 2 columns]"
      ]
     },
     "execution_count": 40,
     "metadata": {},
     "output_type": "execute_result"
    }
   ],
   "source": [
    "profit_by_category"
   ]
  },
  {
   "cell_type": "code",
   "execution_count": 41,
   "id": "cedb01fe",
   "metadata": {},
   "outputs": [
    {
     "data": {
      "text/plain": [
       "0       0.000046\n",
       "1       0.000117\n",
       "2       0.000485\n",
       "3       0.000403\n",
       "4       0.014436\n",
       "          ...   \n",
       "9421    0.004460\n",
       "9422    0.000119\n",
       "9423    0.022120\n",
       "9424    0.005046\n",
       "9425    0.001710\n",
       "Name: Sales_Normalized, Length: 9426, dtype: float64"
      ]
     },
     "execution_count": 41,
     "metadata": {},
     "output_type": "execute_result"
    }
   ],
   "source": [
    "df['Sales_Normalized']"
   ]
  },
  {
   "cell_type": "code",
   "execution_count": 43,
   "id": "c7822d9e",
   "metadata": {},
   "outputs": [
    {
     "data": {
      "text/plain": [
       "0       5.0\n",
       "1       NaN\n",
       "2       7.0\n",
       "3       7.0\n",
       "4       7.0\n",
       "       ... \n",
       "9421    5.0\n",
       "9422    5.0\n",
       "9423    NaN\n",
       "9424    NaN\n",
       "9425    NaN\n",
       "Name: Order Month, Length: 9426, dtype: float64"
      ]
     },
     "execution_count": 43,
     "metadata": {},
     "output_type": "execute_result"
    }
   ],
   "source": [
    "df['Order Month']"
   ]
  },
  {
   "cell_type": "code",
   "execution_count": 44,
   "id": "97e20b8f",
   "metadata": {},
   "outputs": [
    {
     "data": {
      "text/plain": [
       "0       2012.0\n",
       "1          NaN\n",
       "2       2011.0\n",
       "3       2011.0\n",
       "4       2011.0\n",
       "         ...  \n",
       "9421    2013.0\n",
       "9422    2013.0\n",
       "9423       NaN\n",
       "9424       NaN\n",
       "9425       NaN\n",
       "Name: Order Year, Length: 9426, dtype: float64"
      ]
     },
     "execution_count": 44,
     "metadata": {},
     "output_type": "execute_result"
    }
   ],
   "source": [
    "df['Order Year']"
   ]
  },
  {
   "cell_type": "code",
   "execution_count": 45,
   "id": "c7a6f0a0",
   "metadata": {},
   "outputs": [
    {
     "name": "stdout",
     "output_type": "stream",
     "text": [
      "\n",
      "Data Transformation Completed Successfully:)\n"
     ]
    }
   ],
   "source": [
    "print('\\nData Transformation Completed Successfully:)')"
   ]
  }
 ],
 "metadata": {
  "kernelspec": {
   "display_name": "Python 3 (ipykernel)",
   "language": "python",
   "name": "python3"
  },
  "language_info": {
   "codemirror_mode": {
    "name": "ipython",
    "version": 3
   },
   "file_extension": ".py",
   "mimetype": "text/x-python",
   "name": "python",
   "nbconvert_exporter": "python",
   "pygments_lexer": "ipython3",
   "version": "3.11.5"
  }
 },
 "nbformat": 4,
 "nbformat_minor": 5
}
